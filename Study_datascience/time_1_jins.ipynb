{
 "cells": [
  {
   "cell_type": "code",
   "execution_count": 2,
   "metadata": {},
   "outputs": [],
   "source": [
    "import numpy as np\n",
    "import pandas as pd"
   ]
  },
  {
   "cell_type": "markdown",
   "metadata": {},
   "source": [
    "# 파이썬의 loop가 느린 이유\n",
    "\n",
    "- 파이썬은 동적인 인터프리터 언어이기 때문임\n",
    "- 타입을 알 수 없기 때문에 계산 시 확인 후 연산이 이루어짐.(컴파일 과정에서 최적화가 제한됨)"
   ]
  },
  {
   "cell_type": "code",
   "execution_count": 3,
   "metadata": {},
   "outputs": [],
   "source": [
    "def slow(data_lst):\n",
    "    result_lst = []\n",
    "    for data in data_lst:\n",
    "        result_lst.append(data*-1)\n",
    "    return np.array(result_lst)"
   ]
  },
  {
   "cell_type": "code",
   "execution_count": 4,
   "metadata": {},
   "outputs": [
    {
     "name": "stdout",
     "output_type": "stream",
     "text": [
      "2.59 µs ± 67.6 ns per loop (mean ± std. dev. of 7 runs, 100,000 loops each)\n"
     ]
    }
   ],
   "source": [
    "data_lst = np.random.randint(1,10, size=5)\n",
    "%timeit slow(data_lst)"
   ]
  },
  {
   "cell_type": "markdown",
   "metadata": {},
   "source": [
    "# Ufuncs : 유니버설 함수\n",
    "리스트에 바로 적용할 수 있는 함수들\n",
    "- 산술 연산 모두 사용 가능 ( +, -, *, /, %, **)\n",
    "- 절대값 함수 : abs()\n",
    "- 삼각 함수 : np.sin(), np.cos(), np.tan(), np.arcsin(), np.arccos(), np.arctan()\n",
    "- 지수 함수 : np.exp(), np.exp2(), np.power(), np.expm1()\n",
    "- 로그 함수 : np.log(), np.log2(), np.log10(), np.log1p()"
   ]
  },
  {
   "cell_type": "code",
   "execution_count": 23,
   "metadata": {},
   "outputs": [
    {
     "name": "stdout",
     "output_type": "stream",
     "text": [
      "[-6 -8 -1 -4 -9]\n",
      "[-6 -8 -1 -4 -9]\n",
      "727 ns ± 37.3 ns per loop (mean ± std. dev. of 7 runs, 1,000,000 loops each)\n"
     ]
    }
   ],
   "source": [
    "print(slow(data_lst))\n",
    "print(data_lst*-1)\n",
    "\n",
    "%timeit data_lst*-1"
   ]
  },
  {
   "cell_type": "code",
   "execution_count": 26,
   "metadata": {},
   "outputs": [
    {
     "data": {
      "text/plain": [
       "array([0.        , 0.5       , 0.66666667, 0.75      , 0.8       ])"
      ]
     },
     "execution_count": 26,
     "metadata": {},
     "output_type": "execute_result"
    }
   ],
   "source": [
    "# 두 벡터의 길이가 맞으면 아래처럼 연산도 가능\n",
    "# 동일한 위치의 원소끼리 연산된 array return\n",
    "np.arange(5) / np.arange(1,6)"
   ]
  },
  {
   "cell_type": "code",
   "execution_count": 34,
   "metadata": {},
   "outputs": [
    {
     "name": "stdout",
     "output_type": "stream",
     "text": [
      "[[0 1]\n",
      " [2 3]]\n",
      "[[0 1]\n",
      " [4 9]]\n",
      "[[1 2]\n",
      " [4 8]]\n"
     ]
    }
   ],
   "source": [
    "x = np.arange(4).reshape((2,2))\n",
    "print(x)\n",
    "print(x**2) # 각 원소 제곱\n",
    "print(2**x) # 원소 각각을 2^n"
   ]
  },
  {
   "cell_type": "code",
   "execution_count": 18,
   "metadata": {},
   "outputs": [
    {
     "name": "stdout",
     "output_type": "stream",
     "text": [
      "[0 1 2 3 4]\n",
      "[ 0. 10. 20. 30. 40.]\n"
     ]
    }
   ],
   "source": [
    "# 고급 기능 : out 사용 시 메모리 소모를 줄일 수 있음\n",
    "x = np.arange(5)\n",
    "y = np.empty(5)\n",
    "# x*10 == np.multiply(x, 10) \n",
    "np.multiply(x, 10, out=y)\n",
    "print(x)\n",
    "print(y)"
   ]
  },
  {
   "cell_type": "code",
   "execution_count": 45,
   "metadata": {},
   "outputs": [
    {
     "name": "stdout",
     "output_type": "stream",
     "text": [
      "[ 1.  0.  2.  0.  4.  0.  8.  0. 16.  0.]\n"
     ]
    }
   ],
   "source": [
    "# 고급 기능 : out 사용 시 메모리 소모를 줄일 수 있음\n",
    "y = np.zeros(10)\n",
    "np.power(2, x, out=y[::2]) # vs. y[::2] = 2 ** x\n",
    "print(y)"
   ]
  },
  {
   "cell_type": "code",
   "execution_count": 35,
   "metadata": {},
   "outputs": [
    {
     "name": "stdout",
     "output_type": "stream",
     "text": [
      "[1 2 3 4]\n",
      "10\n",
      "24\n"
     ]
    }
   ],
   "source": [
    "# 고급 기능 : reduce()\n",
    "x = np.arange(1, 5)\n",
    "print(x)\n",
    "print(np.add.reduce(x))\n",
    "print(np.multiply.reduce(x))"
   ]
  },
  {
   "cell_type": "code",
   "execution_count": 34,
   "metadata": {},
   "outputs": [
    {
     "name": "stdout",
     "output_type": "stream",
     "text": [
      "[1 2 3 4]\n",
      "[ 1  3  6 10]\n",
      "[ 1  2  6 24]\n"
     ]
    }
   ],
   "source": [
    "# 고급기능 : accumulate()\n",
    "x = np.arange(1, 5)\n",
    "print(x)\n",
    "print(np.add.accumulate(x))\n",
    "print(np.multiply.accumulate(x))"
   ]
  },
  {
   "cell_type": "code",
   "execution_count": 61,
   "metadata": {},
   "outputs": [
    {
     "data": {
      "text/plain": [
       "array([[ 1,  2,  3,  4,  5],\n",
       "       [ 2,  4,  6,  8, 10],\n",
       "       [ 3,  6,  9, 12, 15],\n",
       "       [ 4,  8, 12, 16, 20],\n",
       "       [ 5, 10, 15, 20, 25]])"
      ]
     },
     "execution_count": 61,
     "metadata": {},
     "output_type": "execute_result"
    }
   ],
   "source": [
    "# Outer products\n",
    "x = np.arange(1,6)\n",
    "np.multiply.outer(x, x)"
   ]
  },
  {
   "cell_type": "markdown",
   "metadata": {},
   "source": [
    "# 집계함수\n",
    "- sum() vs np.sum()\n",
    "- min() vs np.min()\n",
    "- max() vs np.max()\n",
    "\n",
    "## 기타 집계함수\n",
    "- np.prod()\n",
    "- np.mean()\n",
    "- np.std()\n",
    "- np.var()\n",
    "- np.argmin()\n",
    "- np.argmax()\n",
    "- np.median()\n",
    "- np.any()\n",
    "- np.all()"
   ]
  },
  {
   "cell_type": "code",
   "execution_count": null,
   "metadata": {},
   "outputs": [],
   "source": []
  }
 ],
 "metadata": {
  "kernelspec": {
   "display_name": "base",
   "language": "python",
   "name": "python3"
  },
  "language_info": {
   "codemirror_mode": {
    "name": "ipython",
    "version": 3
   },
   "file_extension": ".py",
   "mimetype": "text/x-python",
   "name": "python",
   "nbconvert_exporter": "python",
   "pygments_lexer": "ipython3",
   "version": "3.8.18"
  }
 },
 "nbformat": 4,
 "nbformat_minor": 2
}
