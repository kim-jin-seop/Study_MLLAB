{
 "cells": [
  {
   "cell_type": "code",
   "execution_count": 1,
   "metadata": {},
   "outputs": [],
   "source": [
    "import numpy as np\n",
    "import pandas as pd"
   ]
  },
  {
   "cell_type": "markdown",
   "metadata": {},
   "source": [
    "# BroadCast"
   ]
  },
  {
   "cell_type": "code",
   "execution_count": 2,
   "metadata": {},
   "outputs": [
    {
     "data": {
      "text/plain": [
       "array([3, 4, 5])"
      ]
     },
     "execution_count": 2,
     "metadata": {},
     "output_type": "execute_result"
    }
   ],
   "source": [
    "a = np.array([1, 2, 3])\n",
    "b = np.array([2, 2, 2])\n",
    "a + b"
   ]
  },
  {
   "cell_type": "code",
   "execution_count": 3,
   "metadata": {},
   "outputs": [
    {
     "data": {
      "text/plain": [
       "array([4, 5, 6])"
      ]
     },
     "execution_count": 3,
     "metadata": {},
     "output_type": "execute_result"
    }
   ],
   "source": [
    "# 장점 : [3, 3, 3]이 생성해서 수행하는 연산과 동일한 연산이 적용됨\n",
    "a + 3 "
   ]
  },
  {
   "cell_type": "code",
   "execution_count": 4,
   "metadata": {},
   "outputs": [
    {
     "data": {
      "text/plain": [
       "array([[2., 3., 4.],\n",
       "       [2., 3., 4.],\n",
       "       [2., 3., 4.]])"
      ]
     },
     "execution_count": 4,
     "metadata": {},
     "output_type": "execute_result"
    }
   ],
   "source": [
    "M = np.ones((3, 3))\n",
    "M + a"
   ]
  },
  {
   "cell_type": "code",
   "execution_count": 5,
   "metadata": {},
   "outputs": [
    {
     "data": {
      "text/plain": [
       "array([[2, 3, 4],\n",
       "       [3, 4, 5],\n",
       "       [4, 5, 6]])"
      ]
     },
     "execution_count": 5,
     "metadata": {},
     "output_type": "execute_result"
    }
   ],
   "source": [
    "a = np.array([1, 2, 3])\n",
    "b = np.array([1, 2, 3])[:, np.newaxis]\n",
    "a + b"
   ]
  },
  {
   "cell_type": "markdown",
   "metadata": {},
   "source": [
    "### (1) a, b의 shape 변화\n",
    "1   \n",
    "a -> (4, 1)   \n",
    "b -> (2)  \n",
    "\n",
    "2  \n",
    "a -> (4, 1)  \n",
    "b -> (1, 2)  \n",
    "\n",
    "3  \n",
    "a -> (4, 2)  \n",
    "b -> (4, 2)"
   ]
  },
  {
   "cell_type": "code",
   "execution_count": 6,
   "metadata": {},
   "outputs": [
    {
     "name": "stdout",
     "output_type": "stream",
     "text": [
      "(4, 1) (2,) (4, 2)\n",
      "[[ 6  7]\n",
      " [ 7  8]\n",
      " [ 8  9]\n",
      " [ 9 10]]\n"
     ]
    }
   ],
   "source": [
    "a = np.array([[1], [2], [3], [4]])\n",
    "b = np.array([5, 6])\n",
    "c = a + b\n",
    "print(a.shape, b.shape, c.shape)\n",
    "print(c)"
   ]
  },
  {
   "cell_type": "markdown",
   "metadata": {},
   "source": [
    "### (2) a, b의 shape 변화\n",
    "1   \n",
    "a -> (1 4)   \n",
    "b -> (2)  \n",
    "\n",
    "2  \n",
    "a -> (1, 4)  \n",
    "b -> (1, 2)  \n",
    "\n",
    "! a + b 불가"
   ]
  },
  {
   "cell_type": "code",
   "execution_count": 7,
   "metadata": {},
   "outputs": [
    {
     "name": "stdout",
     "output_type": "stream",
     "text": [
      "(1, 4) (2,)\n"
     ]
    }
   ],
   "source": [
    "a = np.array([[1, 2, 3, 4]])\n",
    "b = np.array([5, 6])\n",
    "print(a.shape, b.shape)"
   ]
  },
  {
   "cell_type": "markdown",
   "metadata": {},
   "source": [
    "### BroadCast 활용 : 표준화"
   ]
  },
  {
   "cell_type": "code",
   "execution_count": 8,
   "metadata": {},
   "outputs": [
    {
     "name": "stdout",
     "output_type": "stream",
     "text": [
      "[[1.50459749e+00 9.79923003e+01 5.23365645e+02]\n",
      " [9.90595032e+00 1.12380991e+00 7.10671217e+02]\n",
      " [7.62150301e+00 1.33721877e+01 9.70989462e+02]\n",
      " [3.05600773e+00 7.52503380e+01 8.15509299e+02]\n",
      " [9.70674892e+00 1.66775009e+01 6.93360123e+02]\n",
      " [3.37505519e+00 2.09281466e+01 3.30386248e+02]\n",
      " [2.51646606e+00 2.41370878e+01 7.49699049e+02]\n",
      " [5.11869662e+00 9.44321877e+01 3.17090550e+02]\n",
      " [3.56244134e-01 3.48129389e+01 9.05536393e+02]\n",
      " [6.01514099e+00 7.48275521e+01 7.16172631e+02]]\n"
     ]
    }
   ],
   "source": [
    "X = np.random.random((10, 3))\n",
    "X = X * np.array([10, 100, 1000])\n",
    "Xmean = X.mean(0)\n",
    "Xstd = X.std(0)\n",
    "print(X)"
   ]
  },
  {
   "cell_type": "code",
   "execution_count": 9,
   "metadata": {},
   "outputs": [
    {
     "data": {
      "text/plain": [
       "array([[-1.07692883,  1.52578263, -0.71532556],\n",
       "       [ 1.57397759, -1.28213868,  0.17842605],\n",
       "       [ 0.85315844, -0.92709567,  1.42056661],\n",
       "       [-0.58740727,  0.86656269,  0.67867387],\n",
       "       [ 1.51112292, -0.83128474,  0.09582403],\n",
       "       [-0.48673718, -0.70807152, -1.63615051],\n",
       "       [-0.75765062, -0.61505413,  0.36465215],\n",
       "       [ 0.06343972,  1.42258585, -1.69959258],\n",
       "       [-1.43927254, -0.30559385,  1.10824923],\n",
       "       [ 0.34629776,  0.85430742,  0.20467672]])"
      ]
     },
     "execution_count": 9,
     "metadata": {},
     "output_type": "execute_result"
    }
   ],
   "source": [
    "X_standardization = (X - Xmean) / Xstd\n",
    "X_standardization"
   ]
  },
  {
   "cell_type": "markdown",
   "metadata": {},
   "source": [
    "# 비교, 마스크, 부울 로직"
   ]
  },
  {
   "cell_type": "code",
   "execution_count": 10,
   "metadata": {},
   "outputs": [
    {
     "data": {
      "text/plain": [
       "array([False, False, False,  True,  True])"
      ]
     },
     "execution_count": 10,
     "metadata": {},
     "output_type": "execute_result"
    }
   ],
   "source": [
    "x = np.array([1, 2, 3, 4, 5])\n",
    "x > 3"
   ]
  },
  {
   "cell_type": "code",
   "execution_count": 11,
   "metadata": {},
   "outputs": [
    {
     "name": "stdout",
     "output_type": "stream",
     "text": [
      "2\n",
      "2\n"
     ]
    }
   ],
   "source": [
    "x = np.array([1, 2, 3, 4, 5])\n",
    "print(np.count_nonzero(x > 3)) # True인 조건 개수 확인 1 \n",
    "print(np.sum(x > 3)) # True인 조건 개수 확인 2"
   ]
  },
  {
   "cell_type": "code",
   "execution_count": 12,
   "metadata": {},
   "outputs": [
    {
     "data": {
      "text/plain": [
       "array([1, 2, 3])"
      ]
     },
     "execution_count": 12,
     "metadata": {},
     "output_type": "execute_result"
    }
   ],
   "source": [
    "x = np.array([1, 2, 3, 4, 5])\n",
    "x[x < 4]"
   ]
  },
  {
   "cell_type": "code",
   "execution_count": 13,
   "metadata": {},
   "outputs": [],
   "source": [
    "a = np.array([True, False, True, False, True, False])\n",
    "b = np.array([False, True, False, True, False, True])"
   ]
  },
  {
   "cell_type": "code",
   "execution_count": 14,
   "metadata": {},
   "outputs": [
    {
     "data": {
      "text/plain": [
       "array([ True,  True,  True,  True,  True,  True])"
      ]
     },
     "execution_count": 14,
     "metadata": {},
     "output_type": "execute_result"
    }
   ],
   "source": [
    "a | b"
   ]
  },
  {
   "cell_type": "code",
   "execution_count": 15,
   "metadata": {},
   "outputs": [
    {
     "ename": "ValueError",
     "evalue": "The truth value of an array with more than one element is ambiguous. Use a.any() or a.all()",
     "output_type": "error",
     "traceback": [
      "\u001b[1;31m---------------------------------------------------------------------------\u001b[0m",
      "\u001b[1;31mValueError\u001b[0m                                Traceback (most recent call last)",
      "Cell \u001b[1;32mIn[15], line 1\u001b[0m\n\u001b[1;32m----> 1\u001b[0m a \u001b[38;5;129;01mor\u001b[39;00m b\n",
      "\u001b[1;31mValueError\u001b[0m: The truth value of an array with more than one element is ambiguous. Use a.any() or a.all()"
     ]
    }
   ],
   "source": [
    "a or b"
   ]
  },
  {
   "cell_type": "code",
   "execution_count": null,
   "metadata": {},
   "outputs": [],
   "source": []
  }
 ],
 "metadata": {
  "kernelspec": {
   "display_name": "py_38",
   "language": "python",
   "name": "python3"
  },
  "language_info": {
   "codemirror_mode": {
    "name": "ipython",
    "version": 3
   },
   "file_extension": ".py",
   "mimetype": "text/x-python",
   "name": "python",
   "nbconvert_exporter": "python",
   "pygments_lexer": "ipython3",
   "version": "3.8.18"
  }
 },
 "nbformat": 4,
 "nbformat_minor": 2
}
